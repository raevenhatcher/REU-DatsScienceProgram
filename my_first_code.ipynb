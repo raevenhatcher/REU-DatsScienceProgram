{
 "metadata": {
  "language_info": {
   "codemirror_mode": {
    "name": "ipython",
    "version": 3
   },
   "file_extension": ".py",
   "mimetype": "text/x-python",
   "name": "python",
   "nbconvert_exporter": "python",
   "pygments_lexer": "ipython3",
   "version": "3.9.5"
  },
  "orig_nbformat": 4,
  "kernelspec": {
   "name": "python3",
   "display_name": "Python 3.9.5 64-bit"
  },
  "interpreter": {
   "hash": "aee8b7b246df8f9039afb4144a1f6fd8d2ca17a180786b69acc140d282b71a49"
  }
 },
 "nbformat": 4,
 "nbformat_minor": 2,
 "cells": [
  {
   "cell_type": "code",
   "execution_count": 1,
   "metadata": {},
   "outputs": [
    {
     "output_type": "stream",
     "name": "stdout",
     "text": [
      "1\n<class 'int'>\n10000000000000000000000000000000000000000000000001\n<class 'int'>\n"
     ]
    }
   ],
   "source": [
    "x = 1 \n",
    "print (x)\n",
    "print (type(x))\n",
    "x = 10000000000000000000000000000000000000000000000001\n",
    "print (x)\n",
    "print (type (x))"
   ]
  },
  {
   "cell_type": "code",
   "execution_count": 4,
   "metadata": {},
   "outputs": [
    {
     "output_type": "stream",
     "name": "stdout",
     "text": [
      "<class 'int'>\n20\n"
     ]
    }
   ],
   "source": [
    "age = int(input('Please enter your age:'))\n",
    "print(type (age))\n",
    "print (age)"
   ]
  },
  {
   "cell_type": "code",
   "execution_count": 5,
   "metadata": {},
   "outputs": [
    {
     "output_type": "stream",
     "name": "stdout",
     "text": [
      "1.83\n<class 'float'>\n"
     ]
    }
   ],
   "source": [
    "exchange_rate = 1.83\n",
    "print (exchange_rate)\n",
    "print (type (exchange_rate))"
   ]
  },
  {
   "cell_type": "code",
   "execution_count": 6,
   "metadata": {},
   "outputs": [
    {
     "output_type": "stream",
     "name": "stdout",
     "text": [
      "int value as a float: 1.0\n<class 'float'>\nstring value as a float: 1.5\n<class 'float'>\n"
     ]
    }
   ],
   "source": [
    "int_value = 1\n",
    "string_value= '1.5'\n",
    "float_value = float (int_value)\n",
    "print ('int value as a float:', float_value)\n",
    "print (type (float_value))\n",
    "float_value = float (string_value)\n",
    "print ('string value as a float:', float_value)\n",
    "print (type(float_value))"
   ]
  },
  {
   "cell_type": "code",
   "execution_count": 8,
   "metadata": {},
   "outputs": [
    {
     "output_type": "stream",
     "name": "stdout",
     "text": [
      "2.3\n<class 'float'>\n"
     ]
    }
   ],
   "source": [
    "# Converting an Input String Into a Floating Point Number\n",
    "exchange_rate = float(input('Please enter the exchange rate to use'))\n",
    "print(exchange_rate)\n",
    "print(type(exchange_rate))"
   ]
  },
  {
   "cell_type": "code",
   "execution_count": 9,
   "metadata": {},
   "outputs": [
    {
     "output_type": "stream",
     "name": "stdout",
     "text": [
      "True\nFalse\n<class 'bool'>\n"
     ]
    }
   ],
   "source": [
    "# Boolean value\n",
    "all_ok = True\n",
    "print(all_ok)\n",
    "all_ok = False\n",
    "print(all_ok)\n",
    "print(type(all_ok))"
   ]
  },
  {
   "cell_type": "code",
   "execution_count": 19,
   "metadata": {},
   "outputs": [
    {
     "output_type": "stream",
     "name": "stdout",
     "text": [
      "True\n<class 'bool'>\n"
     ]
    }
   ],
   "source": [
    "# Convert string into Boolean \n",
    "status = bool (input('Ok to proceed: '))\n",
    "print( status)\n",
    "print (type (status))"
   ]
  },
  {
   "cell_type": "code",
   "execution_count": 21,
   "metadata": {},
   "outputs": [
    {
     "output_type": "stream",
     "name": "stdout",
     "text": [
      "True\n<class 'bool'>\n"
     ]
    }
   ],
   "source": [
    "# Convert string into Boolean\n",
    "status = bool(input('Ok to proceed:'))\n",
    "print(status)\n",
    "print(type(status))"
   ]
  }
 ]
}